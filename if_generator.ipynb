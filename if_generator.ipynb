{
 "cells": [
  {
   "cell_type": "code",
   "execution_count": 57,
   "metadata": {},
   "outputs": [],
   "source": [
    "# HIDDEN\n",
    "\n",
    "# This file takes 'cleaned' .txt files from raw ASP program output.\n",
    "\n",
    "import re\n",
    "from collections import defaultdict\n",
    "from ipywidgets import Button, HBox, VBox, Layout, widgets, interact, interactive\n",
    "import ipywidgets\n",
    "from IPython.display import display"
   ]
  },
  {
   "cell_type": "code",
   "execution_count": 65,
   "metadata": {},
   "outputs": [],
   "source": [
    "# HIDDEN\n",
    "\n",
    "def process(path):\n",
    "    \n",
    "    options = defaultdict(lambda: ({}, [])) # choices, reactions tuple\n",
    "    tag = re.compile('\\d')\n",
    "    current_tag = 'start'\n",
    "    \n",
    "    with open(path, 'r') as f:\n",
    "        lines = f.readlines()\n",
    "        \n",
    "        for line in lines:\n",
    "            line = line.rstrip()\n",
    "            if tag.match(line) is not None:\n",
    "                current_tag = line\n",
    "            elif 'decision' in line or 'continue' in line:\n",
    "                choice, sub_tag = line.split('|')\n",
    "                options[current_tag][0][choice] = sub_tag\n",
    "            else:\n",
    "                options[current_tag][1].append(line)\n",
    "                \n",
    "    return options"
   ]
  },
  {
   "cell_type": "code",
   "execution_count": 142,
   "metadata": {},
   "outputs": [],
   "source": [
    "def print_story(text):\n",
    "    string = ''\n",
    "    for item in text:\n",
    "        string += str(item)\n",
    "        string += '<br />'\n",
    "    return string"
   ]
  },
  {
   "cell_type": "code",
   "execution_count": 66,
   "metadata": {},
   "outputs": [],
   "source": [
    "heist_18 = process('results/CLEAN-01-heist-18.txt')"
   ]
  },
  {
   "cell_type": "code",
   "execution_count": 70,
   "metadata": {},
   "outputs": [
    {
     "data": {
      "text/plain": [
       "({'decision(verb(search,trans(object(painting))))': '00',\n",
       "  'decision(verb(search,trans(character(guard))))': '01'},\n",
       " ['setting(museum)',\n",
       "  'story(rising)',\n",
       "  'has(character(guard),object(key))',\n",
       "  'is(character(guard),place(museum))',\n",
       "  'is(character(thief),place(museum))',\n",
       "  'is(object(painting),place(museum))'])"
      ]
     },
     "execution_count": 70,
     "metadata": {},
     "output_type": "execute_result"
    }
   ],
   "source": [
    "heist_18['0']"
   ]
  },
  {
   "cell_type": "code",
   "execution_count": 160,
   "metadata": {
    "scrolled": false
   },
   "outputs": [
    {
     "data": {
      "application/vnd.jupyter.widget-view+json": {
       "model_id": "7f1182fa1bd945beb3c7549f3025be9c",
       "version_major": 2,
       "version_minor": 0
      },
      "text/plain": [
       "HTML(value='setting(museum)<br />story(start)<br />has(character(guard),object(key))<br />is(character(guard),…"
      ]
     },
     "metadata": {},
     "output_type": "display_data"
    }
   ],
   "source": [
    "reactions = widgets.HTML(print_story(heist_18['start'][1]))\n",
    "display(reactions)"
   ]
  },
  {
   "cell_type": "code",
   "execution_count": 163,
   "metadata": {},
   "outputs": [
    {
     "data": {
      "application/vnd.jupyter.widget-view+json": {
       "model_id": "57c2a403ca3e459e99375a20436d6e8e",
       "version_major": 2,
       "version_minor": 0
      },
      "text/plain": [
       "interactive(children=(Dropdown(description='choice', options={'continue': '0'}, value='0'), Output()), _dom_cl…"
      ]
     },
     "metadata": {},
     "output_type": "display_data"
    }
   ],
   "source": [
    "def f(choice):\n",
    "    return choice\n",
    "choose = interactive(f, choice = heist_18['start'][0])\n",
    "display(choose)"
   ]
  },
  {
   "cell_type": "code",
   "execution_count": 164,
   "metadata": {},
   "outputs": [
    {
     "data": {
      "application/vnd.jupyter.widget-view+json": {
       "model_id": "eef4706f45924a3892c450ba804cfae7",
       "version_major": 2,
       "version_minor": 0
      },
      "text/plain": [
       "Button(description='continue', icon='check', style=ButtonStyle())"
      ]
     },
     "metadata": {},
     "output_type": "display_data"
    }
   ],
   "source": [
    "button = Button(description = 'continue', icon='check')\n",
    "display(button)\n",
    "\n",
    "def click(test):\n",
    "    reactions.value = print_story(heist_18[choose.kwargs['choice']][1])\n",
    "    choose.children[0].options = heist_18[choose.result][0]\n",
    "\n",
    "button.on_click(click)"
   ]
  },
  {
   "cell_type": "code",
   "execution_count": null,
   "metadata": {},
   "outputs": [],
   "source": []
  }
 ],
 "metadata": {
  "kernelspec": {
   "display_name": "Python 3",
   "language": "python",
   "name": "python3"
  },
  "language_info": {
   "codemirror_mode": {
    "name": "ipython",
    "version": 3
   },
   "file_extension": ".py",
   "mimetype": "text/x-python",
   "name": "python",
   "nbconvert_exporter": "python",
   "pygments_lexer": "ipython3",
   "version": "3.6.6"
  }
 },
 "nbformat": 4,
 "nbformat_minor": 2
}
