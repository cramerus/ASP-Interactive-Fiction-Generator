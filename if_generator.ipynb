{
 "cells": [
  {
   "cell_type": "code",
   "execution_count": 1,
   "metadata": {
    "collapsed": true
   },
   "outputs": [],
   "source": [
    "import re\n",
    "from collections import defaultdict\n",
    "from ipywidgets import Button, HBox, VBox, Layout, widgets\n",
    "from IPython.display import display"
   ]
  },
  {
   "cell_type": "code",
   "execution_count": 2,
   "metadata": {
    "collapsed": true
   },
   "outputs": [],
   "source": [
    "class IF:\n",
    "    \"\"\"text\"\"\"\n",
    "    \n",
    "    def __init__(self, path, current = None, future = None):\n",
    "        \"\"\"text\"\"\"\n",
    "        self.end = False\n",
    "        if path: # first time\n",
    "            self.choice = None\n",
    "            self._create_tree(path)\n",
    "        else: # recursive\n",
    "            self._create_branch(current, future)\n",
    "                            \n",
    "    def _create_tree(self, path):\n",
    "        \"\"\"\"\"\"\n",
    "        f = open(path)\n",
    "        raw = f.read().split('State 0')[1:]\n",
    "        \n",
    "        next_states = defaultdict(lambda: [])\n",
    "        \n",
    "        for item in raw:\n",
    "            path = item.split('State')\n",
    "            path = self._clean_path(path)\n",
    "            \n",
    "            self.reactions = tuple(path[0])\n",
    "            path = path[1:]\n",
    "            \n",
    "            next_states[tuple(path[0])].append(path[1:])\n",
    "        \n",
    "        self.children = [IF(None, state, next_states[state]) for state in next_states]\n",
    "    \n",
    "    def _clean_path(self, raw_path):\n",
    "        \"\"\"\"\"\"\n",
    "        path = []\n",
    "        for item in raw_path:\n",
    "            item = item.replace('\\n','')\n",
    "            item = item.replace(':', '')\n",
    "            item = ''.join([i for i in item if not i.isdigit()])\n",
    "            item = item.strip(' ')\n",
    "            item = item.split(' ')\n",
    "            token = re.compile(\"\\w+\\(.*\\)\")\n",
    "            for idx in range(len(item)):\n",
    "                if token.match(item[idx]):\n",
    "                    item[idx] = token.match(item[idx]).group()\n",
    "                else:\n",
    "                    item[idx] = None\n",
    "            item = list(filter(None, item))\n",
    "            path.append(item)\n",
    "        return path\n",
    "    \n",
    "    def _create_branch(self, current, future):\n",
    "        \"\"\"\"\"\"        \n",
    "        choice = re.compile('decision\\(.*\\)')\n",
    "        self.choice = None\n",
    "        self.reactions = []\n",
    "        for item in current:\n",
    "            if choice.match(item):\n",
    "                self.choice = choice.match(item).group()\n",
    "            else:\n",
    "                self.reactions.append(item)\n",
    "        \n",
    "        next_states = defaultdict(lambda: [])   \n",
    "            \n",
    "        if future:\n",
    "            for item in future:\n",
    "                if len(item) > 1:\n",
    "                    next_states[tuple(item[0])].append(item[1:])\n",
    "                else:\n",
    "                    next_states[tuple(item[0])] = None\n",
    "            self.children = [IF(None, state, next_states[state]) for state in next_states]\n",
    "        else:\n",
    "            self.end = True\n",
    "            self.children = None\n",
    "            \n",
    "    def play(self):\n",
    "        for item in self.reactions:\n",
    "            print(str(item))\n",
    "        choices = True\n",
    "        if not self.children:\n",
    "            choices = False\n",
    "        else:\n",
    "            for child in self.children:\n",
    "                if not child.choice:\n",
    "                    choices = False\n",
    "        if choices == True:\n",
    "            buttons = [Button(description=str(child.choice), \n",
    "                              layout=Layout(width='100%'))\n",
    "                        for child in self.children]\n",
    "            display(widgets.VBox(buttons))\n",
    "            for idx in range(len(self.children)):\n",
    "                buttons[idx].on_click(self.children[idx]._choose)\n",
    "        else:\n",
    "            #for item in self.reactions:\n",
    "            #    print(str(item))\n",
    "            if self.children:\n",
    "                assert(len(self.children) == 1)\n",
    "                self.children[0].play()\n",
    "        \n",
    "    def _choose(self, b):\n",
    "        #for item in self.reactions:\n",
    "        #    print(str(item))\n",
    "        self.play()       \n",
    "        "
   ]
  },
  {
   "cell_type": "markdown",
   "metadata": {},
   "source": [
    "# Testing"
   ]
  },
  {
   "cell_type": "code",
   "execution_count": 25,
   "metadata": {
    "collapsed": true,
    "scrolled": false
   },
   "outputs": [],
   "source": [
    "heist = IF('heist-results.txt')\n",
    "# when imin=18: 5108\n",
    "# ~322,000 models, 473 seconds, 15 choice steps"
   ]
  },
  {
   "cell_type": "code",
   "execution_count": 26,
   "metadata": {
    "scrolled": false
   },
   "outputs": [
    {
     "name": "stdout",
     "output_type": "stream",
     "text": [
      "setting(museum)\n",
      "story(start)\n",
      "is(character(thief),place(museum))\n",
      "story(rising)\n",
      "is(character(thief),place(museum))\n"
     ]
    },
    {
     "data": {
      "application/vnd.jupyter.widget-view+json": {
       "model_id": "add20f56fad84f85b7b548f7ec64f848",
       "version_major": 2,
       "version_minor": 0
      },
      "text/plain": [
       "A Jupyter Widget"
      ]
     },
     "metadata": {},
     "output_type": "display_data"
    },
    {
     "name": "stdout",
     "output_type": "stream",
     "text": [
      "is(character(thief),place(museum))\n",
      "occurs(character(thief),verb(find,trans(object(painting))),act(rising))\n",
      "occurs(character(thief),verb(search,trans(object(painting))),act(rising))\n"
     ]
    },
    {
     "data": {
      "application/vnd.jupyter.widget-view+json": {
       "model_id": "bafe126bd2384d22b714d985f4bd5541",
       "version_major": 2,
       "version_minor": 0
      },
      "text/plain": [
       "A Jupyter Widget"
      ]
     },
     "metadata": {},
     "output_type": "display_data"
    },
    {
     "name": "stdout",
     "output_type": "stream",
     "text": [
      "is(character(thief),place(museum))\n",
      "occurs(character(guard),verb(find,trans(character(thief))),act(rising))\n",
      "occurs(character(thief),verb(find,trans(character(guard))),act(rising))\n",
      "occurs(character(thief),verb(search,trans(character(guard))),act(rising))\n"
     ]
    },
    {
     "data": {
      "application/vnd.jupyter.widget-view+json": {
       "model_id": "4ff2456661fc483eb99cf72774fd2718",
       "version_major": 2,
       "version_minor": 0
      },
      "text/plain": [
       "A Jupyter Widget"
      ]
     },
     "metadata": {},
     "output_type": "display_data"
    },
    {
     "name": "stdout",
     "output_type": "stream",
     "text": [
      "is(character(guard),adj(hurt))\n",
      "is(character(thief),adj(hurt))\n",
      "is(character(thief),place(museum))\n",
      "occurs(character(guard),verb(fight,trans(character(thief))),act(rising))\n",
      "occurs(character(thief),verb(fight,trans(character(guard))),act(rising))\n"
     ]
    },
    {
     "data": {
      "application/vnd.jupyter.widget-view+json": {
       "model_id": "895af5317f2d4ae497954094ea904999",
       "version_major": 2,
       "version_minor": 0
      },
      "text/plain": [
       "A Jupyter Widget"
      ]
     },
     "metadata": {},
     "output_type": "display_data"
    },
    {
     "name": "stdout",
     "output_type": "stream",
     "text": [
      "is(character(guard),adj(hurt))\n",
      "is(character(thief),adj(hurt))\n",
      "is(character(thief),place(museum))\n",
      "occurs(character(thief),verb(lie,trans(character(guard))),act(rising))\n",
      "occurs(character(thief),verb(trick,trans(character(guard))),act(rising))\n"
     ]
    },
    {
     "data": {
      "application/vnd.jupyter.widget-view+json": {
       "model_id": "d9cadace9a844a699cbf0ccf6bf584a1",
       "version_major": 2,
       "version_minor": 0
      },
      "text/plain": [
       "A Jupyter Widget"
      ]
     },
     "metadata": {},
     "output_type": "display_data"
    },
    {
     "name": "stdout",
     "output_type": "stream",
     "text": [
      "is(character(guard),adj(hurt))\n",
      "is(character(thief),adj(hurt))\n",
      "is(character(thief),place(museum))\n",
      "occurs(character(thief),verb(defeat,trans(character(guard))),act(rising))\n",
      "occurs(character(thief),verb(fight,trans(character(guard))),act(rising))\n",
      "story(climax)\n",
      "is(character(thief),place(museum))\n"
     ]
    },
    {
     "data": {
      "application/vnd.jupyter.widget-view+json": {
       "model_id": "7392cc6408704e14a01eb5885ba9f6d2",
       "version_major": 2,
       "version_minor": 0
      },
      "text/plain": [
       "A Jupyter Widget"
      ]
     },
     "metadata": {},
     "output_type": "display_data"
    },
    {
     "name": "stdout",
     "output_type": "stream",
     "text": [
      "is(character(thief),place(museum))\n",
      "occurs(character(thief),verb(find,trans(object(painting))),act(climax))\n",
      "occurs(character(thief),verb(search,trans(object(painting))),act(climax))\n"
     ]
    },
    {
     "data": {
      "application/vnd.jupyter.widget-view+json": {
       "model_id": "e7e3f43954884941bfcc2c5d081492a5",
       "version_major": 2,
       "version_minor": 0
      },
      "text/plain": [
       "A Jupyter Widget"
      ]
     },
     "metadata": {},
     "output_type": "display_data"
    },
    {
     "name": "stdout",
     "output_type": "stream",
     "text": [
      "has(character(thief),object(painting))\n",
      "is(character(thief),place(museum))\n",
      "occurs(character(thief),verb(take,trans(object(painting))),act(climax))\n"
     ]
    },
    {
     "data": {
      "application/vnd.jupyter.widget-view+json": {
       "model_id": "586f16e1ca61418586dadd102c4edba5",
       "version_major": 2,
       "version_minor": 0
      },
      "text/plain": [
       "A Jupyter Widget"
      ]
     },
     "metadata": {},
     "output_type": "display_data"
    },
    {
     "name": "stdout",
     "output_type": "stream",
     "text": [
      "has(character(thief),object(painting))\n",
      "is(character(thief),place(museum))\n",
      "occurs(character(guard),verb(find,trans(character(thief))),act(climax))\n",
      "occurs(character(thief),verb(find,trans(character(guard))),act(climax))\n",
      "occurs(character(thief),verb(search,trans(character(guard))),act(climax))\n"
     ]
    },
    {
     "data": {
      "application/vnd.jupyter.widget-view+json": {
       "model_id": "39dbabcaf4a941819a60a6974a3574f4",
       "version_major": 2,
       "version_minor": 0
      },
      "text/plain": [
       "A Jupyter Widget"
      ]
     },
     "metadata": {},
     "output_type": "display_data"
    },
    {
     "name": "stdout",
     "output_type": "stream",
     "text": [
      "has(character(thief),object(painting))\n",
      "is(character(thief),place(museum))\n",
      "occurs(character(thief),verb(lie,trans(character(guard))),act(climax))\n",
      "occurs(character(thief),verb(trick,trans(character(guard))),act(climax))\n"
     ]
    },
    {
     "data": {
      "application/vnd.jupyter.widget-view+json": {
       "model_id": "2872d0463fda446badfcf3d3dae7798f",
       "version_major": 2,
       "version_minor": 0
      },
      "text/plain": [
       "A Jupyter Widget"
      ]
     },
     "metadata": {},
     "output_type": "display_data"
    },
    {
     "name": "stdout",
     "output_type": "stream",
     "text": [
      "has(character(thief),object(painting))\n",
      "is(character(thief),place(museum))\n",
      "occurs(character(thief),verb(run,none),act(climax))\n"
     ]
    },
    {
     "data": {
      "application/vnd.jupyter.widget-view+json": {
       "model_id": "c9eaa847979249f58e29c495b84431fc",
       "version_major": 2,
       "version_minor": 0
      },
      "text/plain": [
       "A Jupyter Widget"
      ]
     },
     "metadata": {},
     "output_type": "display_data"
    },
    {
     "name": "stdout",
     "output_type": "stream",
     "text": [
      "has(character(thief),object(painting))\n",
      "is(character(thief),place(museum))\n",
      "occurs(character(thief),verb(escape,none),act(climax))\n",
      "story(falling)\n",
      "has(character(thief),object(painting))\n",
      "is(character(thief),place(museum))\n"
     ]
    },
    {
     "data": {
      "application/vnd.jupyter.widget-view+json": {
       "model_id": "8ab6486fcc394b93b03a5e16db7e2aa0",
       "version_major": 2,
       "version_minor": 0
      },
      "text/plain": [
       "A Jupyter Widget"
      ]
     },
     "metadata": {},
     "output_type": "display_data"
    },
    {
     "name": "stdout",
     "output_type": "stream",
     "text": [
      "has(character(thief),object(painting))\n",
      "is(character(thief),place(museum))\n",
      "occurs(character(guard),verb(find,trans(character(thief))),act(falling))\n",
      "occurs(character(thief),verb(find,trans(character(guard))),act(falling))\n",
      "occurs(character(thief),verb(search,trans(character(guard))),act(falling))\n"
     ]
    },
    {
     "data": {
      "application/vnd.jupyter.widget-view+json": {
       "model_id": "c94427c631b64dfc891e25bb7f928d76",
       "version_major": 2,
       "version_minor": 0
      },
      "text/plain": [
       "A Jupyter Widget"
      ]
     },
     "metadata": {},
     "output_type": "display_data"
    },
    {
     "name": "stdout",
     "output_type": "stream",
     "text": [
      "has(character(thief),object(painting))\n",
      "is(character(thief),adj(hurt))\n",
      "is(character(thief),place(museum))\n",
      "occurs(character(guard),verb(fight,trans(character(thief))),act(falling))\n",
      "occurs(character(thief),verb(find,trans(object(key))),act(falling))\n",
      "occurs(character(thief),verb(search,trans(object(key))),act(falling))\n"
     ]
    },
    {
     "data": {
      "application/vnd.jupyter.widget-view+json": {
       "model_id": "143a31caecc7483584c2e64e5c816d72",
       "version_major": 2,
       "version_minor": 0
      },
      "text/plain": [
       "A Jupyter Widget"
      ]
     },
     "metadata": {},
     "output_type": "display_data"
    },
    {
     "name": "stdout",
     "output_type": "stream",
     "text": [
      "has(character(thief),object(key))\n",
      "has(character(thief),object(painting))\n",
      "is(character(thief),adj(hurt))\n",
      "is(character(thief),place(museum))\n",
      "occurs(character(thief),verb(take,trans(object(key))),act(falling))\n"
     ]
    },
    {
     "data": {
      "application/vnd.jupyter.widget-view+json": {
       "model_id": "faa9e5b45eb648938a3cb2aeae02f343",
       "version_major": 2,
       "version_minor": 0
      },
      "text/plain": [
       "A Jupyter Widget"
      ]
     },
     "metadata": {},
     "output_type": "display_data"
    },
    {
     "name": "stdout",
     "output_type": "stream",
     "text": [
      "has(character(thief),object(key))\n",
      "has(character(thief),object(painting))\n",
      "is(character(thief),adj(hurt))\n",
      "is(character(thief),place(museum))\n",
      "occurs(character(thief),verb(escape,none),act(falling))\n",
      "story(end)\n",
      "has(character(thief),object(key))\n",
      "has(character(thief),object(painting))\n",
      "is(character(thief),place(museum))\n"
     ]
    }
   ],
   "source": [
    "heist.play()"
   ]
  },
  {
   "cell_type": "code",
   "execution_count": null,
   "metadata": {
    "collapsed": true
   },
   "outputs": [],
   "source": []
  },
  {
   "cell_type": "code",
   "execution_count": 23,
   "metadata": {
    "collapsed": true
   },
   "outputs": [],
   "source": [
    "lost_child = IF('results.txt')"
   ]
  },
  {
   "cell_type": "code",
   "execution_count": 24,
   "metadata": {
    "scrolled": false
   },
   "outputs": [
    {
     "name": "stdout",
     "output_type": "stream",
     "text": [
      "setting(museum)\n",
      "story(start)\n",
      "is(character(thief),place(museum))\n",
      "story(rising)\n",
      "is(character(thief),place(museum))\n"
     ]
    },
    {
     "data": {
      "application/vnd.jupyter.widget-view+json": {
       "model_id": "321d87baa56948329ac94cd881d81fd2",
       "version_major": 2,
       "version_minor": 0
      },
      "text/plain": [
       "A Jupyter Widget"
      ]
     },
     "metadata": {},
     "output_type": "display_data"
    },
    {
     "name": "stdout",
     "output_type": "stream",
     "text": [
      "is(character(thief),place(museum))\n",
      "occurs(character(guard),verb(find,trans(character(thief))),act(rising))\n",
      "occurs(character(thief),verb(find,trans(character(guard))),act(rising))\n",
      "occurs(character(thief),verb(search,trans(character(guard))),act(rising))\n"
     ]
    },
    {
     "data": {
      "application/vnd.jupyter.widget-view+json": {
       "model_id": "a87040df32a442d68d863c4ed135057f",
       "version_major": 2,
       "version_minor": 0
      },
      "text/plain": [
       "A Jupyter Widget"
      ]
     },
     "metadata": {},
     "output_type": "display_data"
    },
    {
     "name": "stdout",
     "output_type": "stream",
     "text": [
      "is(character(thief),place(museum))\n",
      "occurs(character(thief),verb(lie,trans(character(guard))),act(rising))\n",
      "occurs(character(thief),verb(trick,trans(character(guard))),act(rising))\n"
     ]
    },
    {
     "data": {
      "application/vnd.jupyter.widget-view+json": {
       "model_id": "c180e89736774e28bd48f7b1d8b27f34",
       "version_major": 2,
       "version_minor": 0
      },
      "text/plain": [
       "A Jupyter Widget"
      ]
     },
     "metadata": {},
     "output_type": "display_data"
    },
    {
     "name": "stdout",
     "output_type": "stream",
     "text": [
      "is(character(guard),adj(hurt))\n",
      "is(character(thief),place(museum))\n",
      "occurs(character(thief),verb(defeat,trans(character(guard))),act(rising))\n",
      "occurs(character(thief),verb(fight,trans(character(guard))),act(rising))\n"
     ]
    },
    {
     "data": {
      "application/vnd.jupyter.widget-view+json": {
       "model_id": "57522aa8d5e44faab62f53415c18e970",
       "version_major": 2,
       "version_minor": 0
      },
      "text/plain": [
       "A Jupyter Widget"
      ]
     },
     "metadata": {},
     "output_type": "display_data"
    },
    {
     "name": "stdout",
     "output_type": "stream",
     "text": [
      "is(character(guard),adj(hurt))\n",
      "is(character(thief),place(museum))\n",
      "occurs(character(thief),verb(find,trans(object(painting))),act(rising))\n",
      "occurs(character(thief),verb(search,trans(object(painting))),act(rising))\n",
      "story(climax)\n",
      "is(character(thief),place(museum))\n"
     ]
    },
    {
     "data": {
      "application/vnd.jupyter.widget-view+json": {
       "model_id": "80a073e54cac4bef886d7c3612b15dd5",
       "version_major": 2,
       "version_minor": 0
      },
      "text/plain": [
       "A Jupyter Widget"
      ]
     },
     "metadata": {},
     "output_type": "display_data"
    },
    {
     "name": "stdout",
     "output_type": "stream",
     "text": [
      "is(character(thief),place(museum))\n",
      "occurs(character(thief),verb(find,trans(object(painting))),act(climax))\n",
      "occurs(character(thief),verb(search,trans(object(painting))),act(climax))\n"
     ]
    },
    {
     "data": {
      "application/vnd.jupyter.widget-view+json": {
       "model_id": "84802f8b6ca54a44aa7aa8c03f53c30f",
       "version_major": 2,
       "version_minor": 0
      },
      "text/plain": [
       "A Jupyter Widget"
      ]
     },
     "metadata": {},
     "output_type": "display_data"
    },
    {
     "name": "stdout",
     "output_type": "stream",
     "text": [
      "has(character(thief),object(painting))\n",
      "is(character(thief),place(museum))\n",
      "occurs(character(thief),verb(take,trans(object(painting))),act(climax))\n"
     ]
    },
    {
     "data": {
      "application/vnd.jupyter.widget-view+json": {
       "model_id": "c35f6df82c914c1caf073c042253a271",
       "version_major": 2,
       "version_minor": 0
      },
      "text/plain": [
       "A Jupyter Widget"
      ]
     },
     "metadata": {},
     "output_type": "display_data"
    },
    {
     "name": "stdout",
     "output_type": "stream",
     "text": [
      "has(character(thief),object(painting))\n",
      "is(character(thief),place(museum))\n",
      "occurs(character(guard),verb(find,trans(character(thief))),act(climax))\n",
      "occurs(character(thief),verb(find,trans(character(guard))),act(climax))\n",
      "occurs(character(thief),verb(search,trans(character(guard))),act(climax))\n"
     ]
    },
    {
     "data": {
      "application/vnd.jupyter.widget-view+json": {
       "model_id": "78f823ec867140eca31e5a9a4637b393",
       "version_major": 2,
       "version_minor": 0
      },
      "text/plain": [
       "A Jupyter Widget"
      ]
     },
     "metadata": {},
     "output_type": "display_data"
    },
    {
     "name": "stdout",
     "output_type": "stream",
     "text": [
      "has(character(thief),object(painting))\n",
      "is(character(thief),place(museum))\n",
      "occurs(character(thief),verb(run,none),act(climax))\n"
     ]
    },
    {
     "data": {
      "application/vnd.jupyter.widget-view+json": {
       "model_id": "dfc28dc450694c34ba8690792cb37cfe",
       "version_major": 2,
       "version_minor": 0
      },
      "text/plain": [
       "A Jupyter Widget"
      ]
     },
     "metadata": {},
     "output_type": "display_data"
    },
    {
     "name": "stdout",
     "output_type": "stream",
     "text": [
      "has(character(thief),object(painting))\n",
      "is(character(thief),place(museum))\n",
      "occurs(character(thief),verb(escape,none),act(climax))\n",
      "story(falling)\n",
      "has(character(thief),object(painting))\n",
      "is(character(thief),place(museum))\n"
     ]
    },
    {
     "data": {
      "application/vnd.jupyter.widget-view+json": {
       "model_id": "a3a13a7939c346c7874b490b7402c9dc",
       "version_major": 2,
       "version_minor": 0
      },
      "text/plain": [
       "A Jupyter Widget"
      ]
     },
     "metadata": {},
     "output_type": "display_data"
    },
    {
     "name": "stdout",
     "output_type": "stream",
     "text": [
      "has(character(thief),object(painting))\n",
      "is(character(thief),place(museum))\n",
      "occurs(character(thief),verb(find,trans(object(key))),act(falling))\n",
      "occurs(character(thief),verb(search,trans(object(key))),act(falling))\n"
     ]
    },
    {
     "data": {
      "application/vnd.jupyter.widget-view+json": {
       "model_id": "5cb730133c1545ff97fe31924987e459",
       "version_major": 2,
       "version_minor": 0
      },
      "text/plain": [
       "A Jupyter Widget"
      ]
     },
     "metadata": {},
     "output_type": "display_data"
    },
    {
     "name": "stdout",
     "output_type": "stream",
     "text": [
      "has(character(thief),object(key))\n",
      "has(character(thief),object(painting))\n",
      "is(character(thief),place(museum))\n",
      "occurs(character(thief),verb(take,trans(object(key))),act(falling))\n"
     ]
    },
    {
     "data": {
      "application/vnd.jupyter.widget-view+json": {
       "model_id": "9d949f9b2e3f4daa903af0140a00086e",
       "version_major": 2,
       "version_minor": 0
      },
      "text/plain": [
       "A Jupyter Widget"
      ]
     },
     "metadata": {},
     "output_type": "display_data"
    },
    {
     "name": "stdout",
     "output_type": "stream",
     "text": [
      "has(character(thief),object(key))\n",
      "has(character(thief),object(painting))\n",
      "is(character(thief),place(museum))\n",
      "occurs(character(thief),verb(escape,none),act(falling))\n",
      "story(end)\n",
      "has(character(thief),object(key))\n",
      "has(character(thief),object(painting))\n",
      "is(character(thief),place(museum))\n"
     ]
    }
   ],
   "source": [
    "lost_child.play()"
   ]
  },
  {
   "cell_type": "code",
   "execution_count": null,
   "metadata": {
    "collapsed": true
   },
   "outputs": [],
   "source": []
  }
 ],
 "metadata": {
  "kernelspec": {
   "display_name": "Python 3",
   "language": "python",
   "name": "python3"
  },
  "language_info": {
   "codemirror_mode": {
    "name": "ipython",
    "version": 3
   },
   "file_extension": ".py",
   "mimetype": "text/x-python",
   "name": "python",
   "nbconvert_exporter": "python",
   "pygments_lexer": "ipython3",
   "version": "3.6.3"
  }
 },
 "nbformat": 4,
 "nbformat_minor": 2
}
