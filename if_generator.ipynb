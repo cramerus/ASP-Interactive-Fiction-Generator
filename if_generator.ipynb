{
 "cells": [
  {
   "cell_type": "code",
   "execution_count": 57,
   "metadata": {
    "collapsed": true
   },
   "outputs": [],
   "source": [
    "# HIDDEN\n",
    "\n",
    "import re\n",
    "from collections import defaultdict\n",
    "from ipywidgets import Button, HBox, VBox, Layout, widgets\n",
    "from IPython.display import display"
   ]
  },
  {
   "cell_type": "code",
   "execution_count": 58,
   "metadata": {
    "collapsed": true
   },
   "outputs": [],
   "source": [
    "# HIDDEN\n",
    "\n",
    "class IF:\n",
    "    \"\"\"text\"\"\"\n",
    "    \n",
    "    def __init__(self, path, current = None, future = None):\n",
    "        \"\"\"text\"\"\"\n",
    "        self.end = False\n",
    "        if path: # first time\n",
    "            self.choice = None\n",
    "            self._create_tree(path)\n",
    "        else: # recursive\n",
    "            self._create_branch(current, future)\n",
    "                            \n",
    "    def _create_tree(self, path):\n",
    "        \"\"\"\"\"\"\n",
    "        f = open(path)\n",
    "        raw = f.read().split('State 0')[1:]\n",
    "        \n",
    "        next_states = defaultdict(lambda: [])\n",
    "        \n",
    "        for item in raw:\n",
    "            path = item.split('State')\n",
    "            path = self._clean_path(path)\n",
    "            \n",
    "            self.reactions = tuple(path[0])\n",
    "            path = path[1:]\n",
    "            \n",
    "            next_states[tuple(path[0])].append(path[1:])\n",
    "        \n",
    "        self.children = [IF(None, state, next_states[state]) for state in next_states]\n",
    "    \n",
    "    def _clean_path(self, raw_path):\n",
    "        \"\"\"\"\"\"\n",
    "        path = []\n",
    "        for item in raw_path:\n",
    "            item = item.replace('\\n','')\n",
    "            item = item.replace(':', '')\n",
    "            item = ''.join([i for i in item if not i.isdigit()])\n",
    "            item = item.strip(' ')\n",
    "            item = item.split(' ')\n",
    "            token = re.compile(\"\\w+\\(.*\\)\")\n",
    "            for idx in range(len(item)):\n",
    "                if token.match(item[idx]):\n",
    "                    item[idx] = token.match(item[idx]).group()\n",
    "                else:\n",
    "                    item[idx] = None\n",
    "            item = list(filter(None, item))\n",
    "            path.append(item)\n",
    "        return path\n",
    "    \n",
    "    def _create_branch(self, current, future):\n",
    "        \"\"\"\"\"\"        \n",
    "        choice = re.compile('decision\\(.*\\)')\n",
    "        self.choice = None\n",
    "        self.reactions = []\n",
    "        for item in current:\n",
    "            if choice.match(item):\n",
    "                self.choice = choice.match(item).group()\n",
    "            else:\n",
    "                self.reactions.append(item)\n",
    "        \n",
    "        next_states = defaultdict(lambda: [])   \n",
    "            \n",
    "        if future:\n",
    "            for item in future:\n",
    "                if len(item) > 1:\n",
    "                    next_states[tuple(item[0])].append(item[1:])\n",
    "                else:\n",
    "                    next_states[tuple(item[0])] = None\n",
    "            self.children = [IF(None, state, next_states[state]) for state in next_states]\n",
    "        else:\n",
    "            self.end = True\n",
    "            self.children = None\n",
    "            \n",
    "    def play(self):\n",
    "        for item in self.reactions:\n",
    "            print(str(item))\n",
    "        choices = True\n",
    "        if not self.children:\n",
    "            choices = False\n",
    "        else:\n",
    "            for child in self.children:\n",
    "                if not child.choice:\n",
    "                    choices = False\n",
    "        if choices == True:\n",
    "            buttons = [Button(description=str(child.choice), \n",
    "                              layout=Layout(width='100%'))\n",
    "                        for child in self.children]\n",
    "            display(widgets.VBox(buttons))\n",
    "            for idx in range(len(self.children)):\n",
    "                buttons[idx].on_click(self.children[idx]._choose)\n",
    "        else:\n",
    "            #for item in self.reactions:\n",
    "            #    print(str(item))\n",
    "            if self.children:\n",
    "                assert(len(self.children) == 1)\n",
    "                self.children[0].play()\n",
    "        \n",
    "    def _choose(self, b):\n",
    "        #for item in self.reactions:\n",
    "        #    print(str(item))\n",
    "        self.play()       \n",
    "        "
   ]
  },
  {
   "cell_type": "markdown",
   "metadata": {},
   "source": [
    "# Testing"
   ]
  },
  {
   "cell_type": "code",
   "execution_count": 3,
   "metadata": {
    "collapsed": true
   },
   "outputs": [],
   "source": [
    "test = IF('results.txt')"
   ]
  },
  {
   "cell_type": "code",
   "execution_count": 61,
   "metadata": {
    "scrolled": true
   },
   "outputs": [],
   "source": [
    "test.play()"
   ]
  },
  {
   "cell_type": "code",
   "execution_count": 6,
   "metadata": {
    "collapsed": true
   },
   "outputs": [],
   "source": [
    "# HIDDEN\n",
    "\n",
    "#path = 'results.txt'"
   ]
  },
  {
   "cell_type": "code",
   "execution_count": null,
   "metadata": {
    "collapsed": true
   },
   "outputs": [],
   "source": [
    "# HIDDEN\n",
    "\n",
    "def process_output(path):\n",
    "    f = open(path)\n",
    "    raw = f.read().replace('\\n','')\n",
    "    raw = raw.split('State 0')[1:]\n",
    "    for idx in range(len(raw)):\n",
    "        raw[idx] = raw[idx].split('State')\n",
    "        for idx2 in range(len(raw[idx])):\n",
    "            raw[idx][idx2] = raw[idx][idx2].split(' ')\n",
    "    return raw"
   ]
  },
  {
   "cell_type": "code",
   "execution_count": 55,
   "metadata": {},
   "outputs": [],
   "source": [
    "# HIDDEN\n",
    "\n",
    "#test = process_output(path)"
   ]
  },
  {
   "cell_type": "code",
   "execution_count": 62,
   "metadata": {},
   "outputs": [],
   "source": [
    "# HIDDEN\n",
    "\n",
    "#test[0]"
   ]
  },
  {
   "cell_type": "code",
   "execution_count": 66,
   "metadata": {},
   "outputs": [],
   "source": [
    "# HIDDEN\n",
    "\n",
    "#import nbinteract as nbi\n",
    "#nbi.publish('cramerus/nbinteract-image/master', 'if_generator.ipynb')"
   ]
  }
 ],
 "metadata": {
  "kernelspec": {
   "display_name": "Python 3",
   "language": "python",
   "name": "python3"
  },
  "language_info": {
   "codemirror_mode": {
    "name": "ipython",
    "version": 3
   },
   "file_extension": ".py",
   "mimetype": "text/x-python",
   "name": "python",
   "nbconvert_exporter": "python",
   "pygments_lexer": "ipython3",
   "version": "3.6.3"
  }
 },
 "nbformat": 4,
 "nbformat_minor": 2
}
