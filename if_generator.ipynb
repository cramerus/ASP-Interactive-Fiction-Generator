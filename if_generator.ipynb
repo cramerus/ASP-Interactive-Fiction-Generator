{
 "cells": [
  {
   "cell_type": "markdown",
   "metadata": {},
   "source": [
    "# ASP Interactive Fiction Generator"
   ]
  },
  {
   "cell_type": "code",
   "execution_count": 1,
   "metadata": {},
   "outputs": [],
   "source": [
    "# HIDDEN\n",
    "\n",
    "import re\n",
    "from collections import defaultdict\n",
    "from ipywidgets import Button, HBox, VBox, Layout, widgets\n",
    "import ipywidgets\n",
    "from IPython.display import display"
   ]
  },
  {
   "cell_type": "code",
   "execution_count": 2,
   "metadata": {},
   "outputs": [],
   "source": [
    "# HIDDEN\n",
    "\n",
    "class IF:\n",
    "    \"\"\"text\"\"\"\n",
    "    \n",
    "    def __init__(self, path, current = None, future = None):\n",
    "        \"\"\"text\"\"\"\n",
    "        self.end = False\n",
    "        if path: # first time\n",
    "            self.choice = None\n",
    "            self._create_tree(path)\n",
    "        else: # recursive\n",
    "            self._create_branch(current, future)\n",
    "                            \n",
    "    def _create_tree(self, path):\n",
    "        \"\"\"\"\"\"\n",
    "        f = open(path)\n",
    "        raw = f.read().split('State 0')[1:]\n",
    "        \n",
    "        next_states = defaultdict(lambda: [])\n",
    "        \n",
    "        for item in raw:\n",
    "            path = item.split('State')\n",
    "            path = self._clean_path(path)\n",
    "            \n",
    "            self.reactions = tuple(path[0])\n",
    "            path = path[1:]\n",
    "            \n",
    "            next_states[tuple(path[0])].append(path[1:])\n",
    "        \n",
    "        self.children = [IF(None, state, next_states[state]) for state in next_states]\n",
    "    \n",
    "    def _clean_path(self, raw_path):\n",
    "        \"\"\"\"\"\"\n",
    "        path = []\n",
    "        for item in raw_path:\n",
    "            item = item.replace('\\n','')\n",
    "            item = item.replace(':', '')\n",
    "            item = ''.join([i for i in item if not i.isdigit()])\n",
    "            item = item.strip(' ')\n",
    "            item = item.split(' ')\n",
    "            token = re.compile(\"\\w+\\(.*\\)\")\n",
    "            for idx in range(len(item)):\n",
    "                if token.match(item[idx]):\n",
    "                    item[idx] = token.match(item[idx]).group()\n",
    "                else:\n",
    "                    item[idx] = None\n",
    "            item = list(filter(None, item))\n",
    "            path.append(item)\n",
    "        return path\n",
    "    \n",
    "    def _create_branch(self, current, future):\n",
    "        \"\"\"\"\"\"        \n",
    "        choice = re.compile('decision\\(.*\\)')\n",
    "        self.choice = None\n",
    "        self.reactions = []\n",
    "        for item in current:\n",
    "            if choice.match(item):\n",
    "                self.choice = choice.match(item).group()\n",
    "            else:\n",
    "                self.reactions.append(item)\n",
    "        \n",
    "        next_states = defaultdict(lambda: [])   \n",
    "            \n",
    "        if future:\n",
    "            for item in future:\n",
    "                if len(item) > 1:\n",
    "                    next_states[tuple(item[0])].append(item[1:])\n",
    "                else:\n",
    "                    next_states[tuple(item[0])] = None\n",
    "            self.children = [IF(None, state, next_states[state]) for state in next_states]\n",
    "        else:\n",
    "            self.end = True\n",
    "            self.children = None\n",
    "            \n",
    "    def play(self):\n",
    "        for item in self.reactions:\n",
    "            if(self.writable(item)):\n",
    "                print(self.writable(item))\n",
    "        choices = True\n",
    "        if not self.children:\n",
    "            choices = False\n",
    "        else:\n",
    "            for child in self.children:\n",
    "                if not child.choice:\n",
    "                    choices = False\n",
    "        if choices == True:\n",
    "            buttons = [Button(description=str(child.choice), \n",
    "                              layout=Layout(width='100%'))\n",
    "                        for child in self.children]\n",
    "            display(widgets.VBox(buttons))\n",
    "            for idx in range(len(self.children)):\n",
    "                buttons[idx].on_click(self.children[idx]._choose)\n",
    "        else:\n",
    "            #for item in self.reactions:\n",
    "            #    print(str(item))\n",
    "            if self.children:\n",
    "                assert(len(self.children) == 1)\n",
    "                self.children[0].play()\n",
    "        \n",
    "    def _choose(self, b):\n",
    "        #for item in self.reactions:\n",
    "        #    print(str(item))\n",
    "        self.play()\n",
    "        \n",
    "    def writable(self, line):\n",
    "        if 'role(' in line:\n",
    "            return None\n",
    "        return line\n",
    "        \n",
    "    def write_clean(self, path, tag = '', first = True):\n",
    "        if first:\n",
    "            f = open(path, 'w')\n",
    "        with open(path, 'a') as f:\n",
    "            for item in self.reactions:\n",
    "                if self.writable(item):\n",
    "                    f.write(self.writable(item) + '\\n')\n",
    "            \n",
    "        pairs = []\n",
    "        num = 0\n",
    "        \n",
    "        if self.children and len(self.children) != 1:\n",
    "            for idx in range(len(self.children)):\n",
    "                newtag = tag + str(num)\n",
    "                num += 1\n",
    "                with open(path, 'a') as f:\n",
    "                    f.write(self.writable(self.children[idx].choice) + '|' + newtag + '\\n')\n",
    "                pairs.append((self.children[idx], newtag))\n",
    "            for pair in pairs:\n",
    "                with open(path, 'a') as f:\n",
    "                    f.write(pair[1] + '\\n')\n",
    "                pair[0].write_clean(path, pair[1], False)\n",
    "                \n",
    "        elif self.children and len(self.children) == 1:\n",
    "            tag = tag + str(num)\n",
    "            with open(path, 'a') as f:\n",
    "                f.write(tag + '\\n')\n",
    "            self.children[0].write_clean(path, tag, False)"
   ]
  },
  {
   "cell_type": "markdown",
   "metadata": {},
   "source": [
    "# Testing"
   ]
  },
  {
   "cell_type": "code",
   "execution_count": 130,
   "metadata": {},
   "outputs": [],
   "source": [
    "# HIDDEN\n",
    "\n",
    "heist = IF('results/01-heist-19.txt')"
   ]
  },
  {
   "cell_type": "code",
   "execution_count": 136,
   "metadata": {},
   "outputs": [],
   "source": [
    "# HIDDEN\n",
    "\n",
    "#heist.write_clean('results/CLEAN-01-heist-19.txt')"
   ]
  },
  {
   "cell_type": "code",
   "execution_count": 131,
   "metadata": {
    "scrolled": true
   },
   "outputs": [
    {
     "name": "stdout",
     "output_type": "stream",
     "text": [
      "setting(museum)\n",
      "story(start)\n",
      "has(character(guard),object(key))\n",
      "is(character(guard),place(museum))\n",
      "is(character(thief),place(museum))\n",
      "is(object(painting),place(museum))\n",
      "setting(museum)\n",
      "story(rising)\n",
      "has(character(guard),object(key))\n",
      "is(character(guard),place(museum))\n",
      "is(character(thief),place(museum))\n",
      "is(object(painting),place(museum))\n"
     ]
    },
    {
     "data": {
      "application/vnd.jupyter.widget-view+json": {
       "model_id": "a871c8b2eff745fabbf0a4754d6ff403",
       "version_major": 2,
       "version_minor": 0
      },
      "text/plain": [
       "VBox(children=(Button(description='decision(verb(search,trans(object(painting))))', layout=Layout(width='100%'…"
      ]
     },
     "metadata": {},
     "output_type": "display_data"
    }
   ],
   "source": [
    "# HIDDEN\n",
    "\n",
    "heist.play()"
   ]
  },
  {
   "cell_type": "code",
   "execution_count": 3,
   "metadata": {},
   "outputs": [],
   "source": [
    "# HIDDEN\n",
    "\n",
    "def process_output(path):\n",
    "    '''takes path to ASP encoding output,\n",
    "    returns a list of individual paths,\n",
    "    each of which is a list of states,\n",
    "    each of which is a tuple of choice + outcomes,\n",
    "    and separately returns the initial setting'''\n",
    "    \n",
    "    f = open(path)\n",
    "    raw = f.read().replace('\\n','')\n",
    "    raw = raw.split('State 0')[1:]\n",
    "    \n",
    "    token = re.compile(\"\\w+\\(.*\\)\")\n",
    "    \n",
    "    for story in range(len(raw)):\n",
    "        raw[story] = raw[story].split('State')\n",
    "        \n",
    "        for state in range(len(raw[story])):\n",
    "            raw[story][state] = raw[story][state].split(' ')\n",
    "            raw[story][state] = list(filter(None, raw[story][state]))[1:]\n",
    "            \n",
    "            if story == 0 & state == 0:\n",
    "                initial = raw[0][0]\n",
    "                \n",
    "            if state != 0:\n",
    "                choice = None\n",
    "                outcomes = []\n",
    "                \n",
    "                for item in range(len(raw[story][state])):\n",
    "                    if token.match(raw[story][state][item]):\n",
    "                        raw[story][state][item] = token.match(raw[story][state][item]).group()\n",
    "                    if raw[story][state][item][0] == 'd':\n",
    "                        if choice != None:\n",
    "                            print('Error! More than one decision in a path state!')\n",
    "                        choice = raw[story][state][item]\n",
    "                    elif token.match(raw[story][state][item]):\n",
    "                        outcomes.append(raw[story][state][item])\n",
    "                        \n",
    "                raw[story][state] = (choice, outcomes)\n",
    "                \n",
    "        del raw[story][0]\n",
    "        \n",
    "    return raw, initial"
   ]
  },
  {
   "cell_type": "code",
   "execution_count": 4,
   "metadata": {},
   "outputs": [],
   "source": [
    "# HIDDEN\n",
    "\n",
    "def play(path):\n",
    "    \n",
    "    stories, initial = process_output(path)\n",
    "    \n",
    "    for item in initial:\n",
    "        print(item)\n",
    "    print('')\n",
    "    \n",
    "    choose(stories)\n",
    "    \n",
    "def progress(stories, decision = None):\n",
    "    \n",
    "    \n",
    "    end = False\n",
    "    \n",
    "    # no decision means all paths have same next state (usually story change)\n",
    "    if decision == None:\n",
    "        for item in stories[0][0][1]:\n",
    "            if item == 'story(end)':\n",
    "                end = True\n",
    "            print(item)\n",
    "        print('')\n",
    "    else: # use decision to print choices\n",
    "        new_stories = []\n",
    "        for idx in range(len(stories)):\n",
    "            if stories[idx][0][0] == decision:\n",
    "                new_stories.append(stories[idx])\n",
    "        stories = new_stories\n",
    "        # next: print outcomes\n",
    "        for item in stories[0][0][1]:\n",
    "            if item == 'story(end)':\n",
    "                end = True\n",
    "            print(item)\n",
    "    \n",
    "    # remove first state for all, continue to choose\n",
    "    for story in stories:\n",
    "        del story[0]\n",
    "        \n",
    "    if end == True:\n",
    "        return\n",
    "    \n",
    "    choose(stories)\n",
    "            \n",
    "def choose(stories):\n",
    "    # make next decision\n",
    "    \n",
    "    # gather choices\n",
    "    choices = []\n",
    "    for idx in range(len(stories)):\n",
    "        choices.append(stories[idx][0][0])\n",
    "    choices = list(set(choices))\n",
    "    \n",
    "    def decide(choice):\n",
    "        nonlocal decision\n",
    "        decision = choice\n",
    "        \n",
    "    def ready(dummy):\n",
    "        progress(stories, decision)\n",
    "    \n",
    "    # if no choice, automatically progress\n",
    "    if choices == [None]:\n",
    "        progress(stories)\n",
    "    else:        \n",
    "        decision = choices[0]\n",
    "        ipywidgets.interact(decide, choice = choices)\n",
    "        button = Button(description='next')\n",
    "        display(button)\n",
    "        button.on_click(ready)\n",
    "            \n",
    "\n",
    "    # first: remove all stories where the choice in question is not used:\n"
   ]
  },
  {
   "cell_type": "code",
   "execution_count": 5,
   "metadata": {},
   "outputs": [
    {
     "data": {
      "application/vnd.jupyter.widget-view+json": {
       "model_id": "04e143fefe694932bcba41936dae3d85",
       "version_major": 2,
       "version_minor": 0
      },
      "text/plain": [
       "Button(description='heist story', style=ButtonStyle())"
      ]
     },
     "metadata": {},
     "output_type": "display_data"
    }
   ],
   "source": [
    "def go(dummy):\n",
    "    play('results/01-heist-18.txt')\n",
    "\n",
    "button = Button(description='heist story')\n",
    "display(button)\n",
    "button.on_click(go)"
   ]
  },
  {
   "cell_type": "code",
   "execution_count": 6,
   "metadata": {},
   "outputs": [
    {
     "data": {
      "application/javascript": [
       "IPython.notebook.save_checkpoint();"
      ],
      "text/plain": [
       "<IPython.core.display.Javascript object>"
      ]
     },
     "metadata": {},
     "output_type": "display_data"
    },
    {
     "data": {
      "application/javascript": [
       "IPython.notebook.save_notebook();"
      ],
      "text/plain": [
       "<IPython.core.display.Javascript object>"
      ]
     },
     "metadata": {},
     "output_type": "display_data"
    },
    {
     "name": "stdout",
     "output_type": "stream",
     "text": [
      "Saving notebook... Saved 'if_generator.ipynb'.\n",
      "Converting notebook...\n"
     ]
    },
    {
     "data": {
      "text/markdown": [
       "\n",
       "Successfully converted!\n",
       "\n",
       "<a href=\"if_generator.html\" target=\"_blank\" download>Click to download your webpage.</a>\n",
       "\n",
       "To host your webpage, see the documentation:\n",
       "<a href=\"https://www.nbinteract.com/tutorial/tutorial_publishing.html\"\n",
       "        target=\"_blank\">\n",
       "    https://www.nbinteract.com/tutorial/tutorial_publishing.html\n",
       "</a>\n"
      ],
      "text/plain": [
       "<IPython.core.display.Markdown object>"
      ]
     },
     "metadata": {},
     "output_type": "display_data"
    }
   ],
   "source": [
    "# HIDDEN\n",
    "\n",
    "import nbinteract as nbi\n",
    "nbi.publish('cramerus/nbinteract-image/master', 'if_generator.ipynb')\n",
    "\n",
    "# CLI: nbinteract -s cramerus/ASP-Interactive-Fiction-Generator/master if_generator.ipynb"
   ]
  },
  {
   "cell_type": "code",
   "execution_count": null,
   "metadata": {
    "collapsed": true
   },
   "outputs": [],
   "source": []
  }
 ],
 "metadata": {
  "kernelspec": {
   "display_name": "Python 3",
   "language": "python",
   "name": "python3"
  },
  "language_info": {
   "codemirror_mode": {
    "name": "ipython",
    "version": 3
   },
   "file_extension": ".py",
   "mimetype": "text/x-python",
   "name": "python",
   "nbconvert_exporter": "python",
   "pygments_lexer": "ipython3",
   "version": "3.6.6"
  }
 },
 "nbformat": 4,
 "nbformat_minor": 2
}
