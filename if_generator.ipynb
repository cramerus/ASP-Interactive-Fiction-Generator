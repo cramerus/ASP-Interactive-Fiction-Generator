{
 "cells": [
  {
   "cell_type": "markdown",
   "metadata": {},
   "source": [
    "# ASP Interactive Fiction Generator"
   ]
  },
  {
   "cell_type": "code",
   "execution_count": 2,
   "metadata": {},
   "outputs": [],
   "source": [
    "# HIDDEN\n",
    "\n",
    "import re\n",
    "from collections import defaultdict\n",
    "from ipywidgets import Button, HBox, VBox, Layout, widgets\n",
    "import ipywidgets\n",
    "from IPython.display import display"
   ]
  },
  {
   "cell_type": "code",
   "execution_count": 3,
   "metadata": {},
   "outputs": [],
   "source": [
    "# HIDDEN\n",
    "\n",
    "class IF:\n",
    "    \"\"\"text\"\"\"\n",
    "    \n",
    "    def __init__(self, path, current = None, future = None):\n",
    "        \"\"\"text\"\"\"\n",
    "        self.end = False\n",
    "        if path: # first time\n",
    "            self.choice = None\n",
    "            self._create_tree(path)\n",
    "        else: # recursive\n",
    "            self._create_branch(current, future)\n",
    "                            \n",
    "    def _create_tree(self, path):\n",
    "        \"\"\"\"\"\"\n",
    "        f = open(path)\n",
    "        raw = f.read().split('State 0')[1:]\n",
    "        \n",
    "        next_states = defaultdict(lambda: [])\n",
    "        \n",
    "        for item in raw:\n",
    "            path = item.split('State')\n",
    "            path = self._clean_path(path)\n",
    "            \n",
    "            self.reactions = tuple(path[0])\n",
    "            path = path[1:]\n",
    "            \n",
    "            next_states[tuple(path[0])].append(path[1:])\n",
    "        \n",
    "        self.children = [IF(None, state, next_states[state]) for state in next_states]\n",
    "    \n",
    "    def _clean_path(self, raw_path):\n",
    "        \"\"\"\"\"\"\n",
    "        path = []\n",
    "        for item in raw_path:\n",
    "            item = item.replace('\\n','')\n",
    "            item = item.replace(':', '')\n",
    "            item = ''.join([i for i in item if not i.isdigit()])\n",
    "            item = item.strip(' ')\n",
    "            item = item.split(' ')\n",
    "            token = re.compile(\"\\w+\\(.*\\)\")\n",
    "            for idx in range(len(item)):\n",
    "                if token.match(item[idx]):\n",
    "                    item[idx] = token.match(item[idx]).group()\n",
    "                else:\n",
    "                    item[idx] = None\n",
    "            item = list(filter(None, item))\n",
    "            path.append(item)\n",
    "        return path\n",
    "    \n",
    "    def _create_branch(self, current, future):\n",
    "        \"\"\"\"\"\"        \n",
    "        choice = re.compile('decision\\(.*\\)')\n",
    "        self.choice = None\n",
    "        self.reactions = []\n",
    "        for item in current:\n",
    "            if choice.match(item):\n",
    "                self.choice = choice.match(item).group()\n",
    "            else:\n",
    "                self.reactions.append(item)\n",
    "        \n",
    "        next_states = defaultdict(lambda: [])   \n",
    "            \n",
    "        if future:\n",
    "            for item in future:\n",
    "                if len(item) > 1:\n",
    "                    next_states[tuple(item[0])].append(item[1:])\n",
    "                else:\n",
    "                    next_states[tuple(item[0])] = None\n",
    "            self.children = [IF(None, state, next_states[state]) for state in next_states]\n",
    "        else:\n",
    "            self.end = True\n",
    "            self.children = None\n",
    "            \n",
    "    def play(self):\n",
    "        for item in self.reactions:\n",
    "            print(str(item))\n",
    "        choices = True\n",
    "        if not self.children:\n",
    "            choices = False\n",
    "        else:\n",
    "            for child in self.children:\n",
    "                if not child.choice:\n",
    "                    choices = False\n",
    "        if choices == True:\n",
    "            buttons = [Button(description=str(child.choice), \n",
    "                              layout=Layout(width='100%'))\n",
    "                        for child in self.children]\n",
    "            display(widgets.VBox(buttons))\n",
    "            for idx in range(len(self.children)):\n",
    "                buttons[idx].on_click(self.children[idx]._choose)\n",
    "        else:\n",
    "            #for item in self.reactions:\n",
    "            #    print(str(item))\n",
    "            if self.children:\n",
    "                assert(len(self.children) == 1)\n",
    "                self.children[0].play()\n",
    "        \n",
    "    def _choose(self, b):\n",
    "        #for item in self.reactions:\n",
    "        #    print(str(item))\n",
    "        self.play()       \n",
    "        "
   ]
  },
  {
   "cell_type": "markdown",
   "metadata": {},
   "source": [
    "# Testing"
   ]
  },
  {
   "cell_type": "code",
   "execution_count": 14,
   "metadata": {},
   "outputs": [],
   "source": [
    "# HIDDEN\n",
    "\n",
    "test = IF('results.txt')"
   ]
  },
  {
   "cell_type": "code",
   "execution_count": 15,
   "metadata": {
    "scrolled": true
   },
   "outputs": [
    {
     "name": "stdout",
     "output_type": "stream",
     "text": [
      "setting(home)\n",
      "story(start)\n",
      "is(character(assistant),adj(follower))\n",
      "is(character(assistant),place(work))\n",
      "is(character(detective),place(home))\n",
      "is(character(murderer),adj(violent))\n",
      "is(character(murderer),place(hideout))\n",
      "is(object(body),adj(visible))\n",
      "is(object(body),place(work))\n",
      "is(object(clues),place(city))\n",
      "is(place(hideout),adj(hidden))\n",
      "role(antagonist,character(murderer))\n",
      "role(protagonist,character(detective))\n",
      "role(support,character(assistant))\n",
      "setting(home)\n",
      "story(rising)\n",
      "is(character(assistant),adj(follower))\n",
      "is(character(assistant),place(work))\n",
      "is(character(detective),place(home))\n",
      "is(character(murderer),adj(violent))\n",
      "is(character(murderer),place(hideout))\n",
      "is(object(body),adj(visible))\n",
      "is(object(body),place(work))\n",
      "is(object(clues),place(city))\n",
      "is(place(hideout),adj(hidden))\n",
      "role(antagonist,character(murderer))\n",
      "role(protagonist,character(detective))\n",
      "role(support,character(assistant))\n"
     ]
    },
    {
     "data": {
      "application/vnd.jupyter.widget-view+json": {
       "model_id": "3ef53ac81e474543aaa3cdce2ad1b794",
       "version_major": 2,
       "version_minor": 0
      },
      "text/plain": [
       "VBox(children=(Button(description='decision(verb(go,trans(place(work))))', layout=Layout(width='100%'), style=…"
      ]
     },
     "metadata": {},
     "output_type": "display_data"
    },
    {
     "name": "stdout",
     "output_type": "stream",
     "text": [
      "setting(home)\n",
      "is(character(assistant),adj(follower))\n",
      "is(character(assistant),place(work))\n",
      "is(character(detective),place(home))\n",
      "is(character(murderer),adj(violent))\n",
      "is(character(murderer),place(hideout))\n",
      "is(object(body),adj(visible))\n",
      "is(object(body),place(work))\n",
      "is(object(clues),place(city))\n",
      "is(place(hideout),adj(hidden))\n",
      "role(antagonist,character(murderer))\n",
      "role(protagonist,character(detective))\n",
      "role(support,character(assistant))\n",
      "fails(character(detective),verb(find,trans(character(assistant))),act(rising))\n",
      "occurs(character(detective),verb(search,trans(character(assistant))),act(rising))\n"
     ]
    },
    {
     "data": {
      "application/vnd.jupyter.widget-view+json": {
       "model_id": "6bd69d4f20b948a297c04de6bd6b6872",
       "version_major": 2,
       "version_minor": 0
      },
      "text/plain": [
       "VBox(children=(Button(description='decision(verb(go,trans(place(work))))', layout=Layout(width='100%'), style=…"
      ]
     },
     "metadata": {},
     "output_type": "display_data"
    },
    {
     "name": "stdout",
     "output_type": "stream",
     "text": [
      "setting(work)\n",
      "is(character(assistant),adj(follower))\n",
      "is(character(assistant),place(work))\n",
      "is(character(detective),place(work))\n",
      "is(character(murderer),adj(violent))\n",
      "is(character(murderer),place(hideout))\n",
      "is(object(body),adj(visible))\n",
      "is(object(body),place(work))\n",
      "is(object(clues),place(city))\n",
      "is(place(hideout),adj(hidden))\n",
      "role(antagonist,character(murderer))\n",
      "role(protagonist,character(detective))\n",
      "role(support,character(assistant))\n",
      "occurs(character(detective),verb(find,trans(object(body))),act(rising))\n",
      "occurs(character(detective),verb(go,trans(place(work))),act(rising))\n"
     ]
    },
    {
     "data": {
      "application/vnd.jupyter.widget-view+json": {
       "model_id": "731c281baad14034b43694a447f9d959",
       "version_major": 2,
       "version_minor": 0
      },
      "text/plain": [
       "VBox(children=(Button(description='decision(verb(go,trans(place(city))))', layout=Layout(width='100%'), style=…"
      ]
     },
     "metadata": {},
     "output_type": "display_data"
    },
    {
     "name": "stdout",
     "output_type": "stream",
     "text": [
      "setting(city)\n",
      "is(character(assistant),adj(follower))\n",
      "is(character(assistant),adj(visible))\n",
      "is(character(assistant),place(city))\n",
      "is(character(detective),place(city))\n",
      "is(character(murderer),adj(violent))\n",
      "is(character(murderer),place(hideout))\n",
      "is(object(body),place(work))\n",
      "is(object(clues),place(city))\n",
      "is(place(hideout),adj(hidden))\n",
      "role(antagonist,character(murderer))\n",
      "role(protagonist,character(detective))\n",
      "role(support,character(assistant))\n",
      "occurs(character(assistant),verb(find,trans(character(detective))),act(rising))\n",
      "occurs(character(assistant),verb(go,trans(place(city))),act(rising))\n",
      "occurs(character(detective),verb(find,trans(character(assistant))),act(rising))\n",
      "occurs(character(detective),verb(go,trans(place(city))),act(rising))\n"
     ]
    },
    {
     "data": {
      "application/vnd.jupyter.widget-view+json": {
       "model_id": "79cbd4fc84da40dda20501d4f9966272",
       "version_major": 2,
       "version_minor": 0
      },
      "text/plain": [
       "VBox(children=(Button(description='decision(verb(talk,trans(character(assistant))))', layout=Layout(width='100…"
      ]
     },
     "metadata": {},
     "output_type": "display_data"
    },
    {
     "name": "stdout",
     "output_type": "stream",
     "text": [
      "setting(city)\n",
      "is(character(assistant),adj(follower))\n",
      "is(character(assistant),place(city))\n",
      "is(character(detective),place(city))\n",
      "is(character(murderer),adj(violent))\n",
      "is(character(murderer),place(hideout))\n",
      "is(object(body),place(work))\n",
      "is(object(clues),place(city))\n",
      "is(place(hideout),adj(hidden))\n",
      "role(antagonist,character(murderer))\n",
      "role(protagonist,character(detective))\n",
      "role(support,character(assistant))\n",
      "occurs(character(detective),verb(talk,trans(character(assistant))),act(rising))\n",
      "setting(city)\n",
      "story(climax)\n",
      "is(character(assistant),adj(follower))\n",
      "is(character(assistant),place(city))\n",
      "is(character(detective),place(city))\n",
      "is(character(murderer),adj(violent))\n",
      "is(character(murderer),place(hideout))\n",
      "is(object(body),place(work))\n",
      "is(object(clues),place(city))\n",
      "is(place(hideout),adj(hidden))\n",
      "role(antagonist,character(murderer))\n",
      "role(protagonist,character(detective))\n",
      "role(support,character(assistant))\n"
     ]
    },
    {
     "data": {
      "application/vnd.jupyter.widget-view+json": {
       "model_id": "9ddf3ccff1d3406abbd7c68a08f04604",
       "version_major": 2,
       "version_minor": 0
      },
      "text/plain": [
       "VBox(children=(Button(description='decision(verb(search,trans(object(clues))))', layout=Layout(width='100%'), …"
      ]
     },
     "metadata": {},
     "output_type": "display_data"
    },
    {
     "name": "stdout",
     "output_type": "stream",
     "text": [
      "setting(city)\n",
      "is(character(assistant),adj(follower))\n",
      "is(character(assistant),place(city))\n",
      "is(character(detective),place(city))\n",
      "is(character(murderer),adj(violent))\n",
      "is(character(murderer),place(hideout))\n",
      "is(object(body),place(work))\n",
      "is(object(clues),place(city))\n",
      "is(place(hideout),adj(hidden))\n",
      "role(antagonist,character(murderer))\n",
      "role(protagonist,character(detective))\n",
      "role(support,character(assistant))\n",
      "occurs(character(detective),verb(find,trans(object(clues))),act(climax))\n",
      "occurs(character(detective),verb(search,trans(object(clues))),act(climax))\n"
     ]
    },
    {
     "data": {
      "application/vnd.jupyter.widget-view+json": {
       "model_id": "09f63d1e95c24fea802292dee475e320",
       "version_major": 2,
       "version_minor": 0
      },
      "text/plain": [
       "VBox(children=(Button(description='decision(verb(take,trans(object(clues))))', layout=Layout(width='100%'), st…"
      ]
     },
     "metadata": {},
     "output_type": "display_data"
    },
    {
     "name": "stdout",
     "output_type": "stream",
     "text": [
      "setting(city)\n",
      "has(character(detective),object(clues))\n",
      "is(character(assistant),adj(follower))\n",
      "is(character(assistant),place(city))\n",
      "is(character(detective),place(city))\n",
      "is(character(murderer),adj(violent))\n",
      "is(character(murderer),place(hideout))\n",
      "is(object(body),place(work))\n",
      "is(object(clues),place(city))\n",
      "is(place(hideout),adj(hidden))\n",
      "role(antagonist,character(murderer))\n",
      "role(protagonist,character(detective))\n",
      "role(support,character(assistant))\n",
      "occurs(character(detective),verb(take,trans(object(clues))),act(climax))\n"
     ]
    },
    {
     "data": {
      "application/vnd.jupyter.widget-view+json": {
       "model_id": "8ce45169977b4e5d943eb9b3c083c512",
       "version_major": 2,
       "version_minor": 0
      },
      "text/plain": [
       "VBox(children=(Button(description='decision(verb(study,trans(object(clues))))', layout=Layout(width='100%'), s…"
      ]
     },
     "metadata": {},
     "output_type": "display_data"
    },
    {
     "name": "stdout",
     "output_type": "stream",
     "text": [
      "setting(city)\n",
      "has(character(detective),object(clues))\n",
      "is(character(assistant),adj(follower))\n",
      "is(character(assistant),place(city))\n",
      "is(character(detective),place(city))\n",
      "is(character(murderer),adj(violent))\n",
      "is(character(murderer),place(hideout))\n",
      "is(object(body),place(work))\n",
      "is(object(clues),place(city))\n",
      "role(antagonist,character(murderer))\n",
      "role(protagonist,character(detective))\n",
      "role(support,character(assistant))\n",
      "occurs(character(detective),verb(study,trans(object(clues))),act(climax))\n",
      "occurs(character(detective),verb(understand,none),act(climax))\n"
     ]
    },
    {
     "data": {
      "application/vnd.jupyter.widget-view+json": {
       "model_id": "9d66d6c1147c476599ebbbebd84df403",
       "version_major": 2,
       "version_minor": 0
      },
      "text/plain": [
       "VBox(children=(Button(description='decision(verb(go,trans(place(hideout))))', layout=Layout(width='100%'), sty…"
      ]
     },
     "metadata": {},
     "output_type": "display_data"
    },
    {
     "name": "stdout",
     "output_type": "stream",
     "text": [
      "setting(hideout)\n",
      "has(character(detective),object(clues))\n",
      "is(character(assistant),adj(follower))\n",
      "is(character(assistant),adj(visible))\n",
      "is(character(assistant),place(hideout))\n",
      "is(character(detective),place(hideout))\n",
      "is(character(murderer),adj(violent))\n",
      "is(character(murderer),place(hideout))\n",
      "is(object(body),place(work))\n",
      "is(object(clues),place(city))\n",
      "role(antagonist,character(murderer))\n",
      "role(protagonist,character(detective))\n",
      "role(support,character(assistant))\n",
      "occurs(character(assistant),verb(find,trans(character(detective))),act(climax))\n",
      "occurs(character(assistant),verb(go,trans(place(hideout))),act(climax))\n",
      "occurs(character(detective),verb(find,trans(character(assistant))),act(climax))\n",
      "occurs(character(detective),verb(go,trans(place(hideout))),act(climax))\n",
      "setting(hideout)\n",
      "story(falling)\n",
      "has(character(detective),object(clues))\n",
      "is(character(assistant),adj(follower))\n",
      "is(character(assistant),place(hideout))\n",
      "is(character(detective),place(hideout))\n",
      "is(character(murderer),adj(violent))\n",
      "is(character(murderer),place(hideout))\n",
      "is(object(body),place(work))\n",
      "is(object(clues),place(city))\n",
      "role(antagonist,character(murderer))\n",
      "role(protagonist,character(detective))\n",
      "role(support,character(assistant))\n"
     ]
    },
    {
     "data": {
      "application/vnd.jupyter.widget-view+json": {
       "model_id": "23f78beadd164f559592ff289f7465c6",
       "version_major": 2,
       "version_minor": 0
      },
      "text/plain": [
       "VBox(children=(Button(description='decision(verb(search,trans(character(murderer))))', layout=Layout(width='10…"
      ]
     },
     "metadata": {},
     "output_type": "display_data"
    },
    {
     "name": "stdout",
     "output_type": "stream",
     "text": [
      "setting(hideout)\n",
      "has(character(detective),object(clues))\n",
      "is(character(assistant),adj(follower))\n",
      "is(character(assistant),place(hideout))\n",
      "is(character(detective),place(hideout))\n",
      "is(character(murderer),adj(violent))\n",
      "is(character(murderer),place(hideout))\n",
      "is(object(body),place(work))\n",
      "is(object(clues),place(city))\n",
      "role(antagonist,character(murderer))\n",
      "role(protagonist,character(detective))\n",
      "role(support,character(assistant))\n",
      "occurs(character(detective),verb(find,trans(character(murderer))),act(falling))\n",
      "occurs(character(detective),verb(search,trans(character(murderer))),act(falling))\n",
      "occurs(character(murderer),verb(find,trans(character(detective))),act(falling))\n"
     ]
    },
    {
     "data": {
      "application/vnd.jupyter.widget-view+json": {
       "model_id": "ec8ced74cf674d148fec91563d309bf1",
       "version_major": 2,
       "version_minor": 0
      },
      "text/plain": [
       "VBox(children=(Button(description='decision(verb(save,trans(character(assistant))))', layout=Layout(width='100…"
      ]
     },
     "metadata": {},
     "output_type": "display_data"
    },
    {
     "name": "stdout",
     "output_type": "stream",
     "text": [
      "setting(hideout)\n",
      "has(character(detective),object(clues))\n",
      "is(character(assistant),adj(follower))\n",
      "is(character(assistant),adj(safe))\n",
      "is(character(assistant),place(hideout))\n",
      "is(character(detective),adj(hurt))\n",
      "is(character(detective),place(hideout))\n",
      "is(character(murderer),adj(violent))\n",
      "is(character(murderer),place(hideout))\n",
      "is(object(body),place(work))\n",
      "is(object(clues),place(city))\n",
      "role(antagonist,character(murderer))\n",
      "role(protagonist,character(detective))\n",
      "role(support,character(assistant))\n",
      "occurs(character(detective),verb(save,trans(character(assistant))),act(falling))\n",
      "occurs(character(murderer),verb(fight,trans(character(detective))),act(falling))\n"
     ]
    },
    {
     "data": {
      "application/vnd.jupyter.widget-view+json": {
       "model_id": "661f5caa93124fab8626c57e1a0766f4",
       "version_major": 2,
       "version_minor": 0
      },
      "text/plain": [
       "VBox(children=(Button(description='decision(verb(fight,trans(character(murderer))))', layout=Layout(width='100…"
      ]
     },
     "metadata": {},
     "output_type": "display_data"
    },
    {
     "name": "stdout",
     "output_type": "stream",
     "text": [
      "setting(hideout)\n",
      "has(character(detective),object(clues))\n",
      "is(character(assistant),adj(follower))\n",
      "is(character(assistant),adj(safe))\n",
      "is(character(assistant),place(hideout))\n",
      "is(character(detective),adj(hurt))\n",
      "is(character(detective),place(hideout))\n",
      "is(character(murderer),adj(violent))\n",
      "is(character(murderer),place(hideout))\n",
      "is(object(body),place(work))\n",
      "is(object(clues),place(city))\n",
      "role(antagonist,character(murderer))\n",
      "role(protagonist,character(detective))\n",
      "role(support,character(assistant))\n",
      "occurs(character(detective),verb(lie,trans(character(murderer))),act(falling))\n",
      "occurs(character(detective),verb(trick,trans(character(murderer))),act(falling))\n"
     ]
    },
    {
     "data": {
      "application/vnd.jupyter.widget-view+json": {
       "model_id": "97fd87adff1f4357a0bb578b4e00094a",
       "version_major": 2,
       "version_minor": 0
      },
      "text/plain": [
       "VBox(children=(Button(description='decision(verb(fight,trans(character(murderer))))', layout=Layout(width='100…"
      ]
     },
     "metadata": {},
     "output_type": "display_data"
    },
    {
     "name": "stdout",
     "output_type": "stream",
     "text": [
      "setting(hideout)\n",
      "has(character(detective),object(clues))\n",
      "is(character(assistant),adj(follower))\n",
      "is(character(assistant),adj(safe))\n",
      "is(character(assistant),place(hideout))\n",
      "is(character(detective),adj(hurt))\n",
      "is(character(detective),place(hideout))\n",
      "is(character(murderer),adj(hurt))\n",
      "is(character(murderer),adj(violent))\n",
      "is(character(murderer),place(hideout))\n",
      "is(object(body),place(work))\n",
      "is(object(clues),place(city))\n",
      "role(antagonist,character(murderer))\n",
      "role(protagonist,character(detective))\n",
      "role(support,character(assistant))\n",
      "occurs(character(detective),verb(defeat,trans(character(murderer))),act(falling))\n",
      "occurs(character(detective),verb(fight,trans(character(murderer))),act(falling))\n",
      "setting(hideout)\n",
      "story(end)\n",
      "has(character(detective),object(clues))\n",
      "is(character(assistant),adj(follower))\n",
      "is(character(assistant),adj(safe))\n",
      "is(character(assistant),place(hideout))\n",
      "is(character(detective),place(hideout))\n",
      "is(character(murderer),adj(violent))\n",
      "is(character(murderer),place(hideout))\n",
      "is(object(body),place(work))\n",
      "is(object(clues),place(city))\n",
      "role(antagonist,character(murderer))\n",
      "role(protagonist,character(detective))\n",
      "role(support,character(assistant))\n",
      "setting(hideout)\n",
      "has(character(detective),object(clues))\n",
      "is(character(assistant),adj(follower))\n",
      "is(character(assistant),place(hideout))\n",
      "is(character(detective),adj(hurt))\n",
      "is(character(detective),place(hideout))\n",
      "is(character(murderer),adj(hurt))\n",
      "is(character(murderer),adj(violent))\n",
      "is(character(murderer),place(hideout))\n",
      "is(object(body),place(work))\n",
      "is(object(clues),place(city))\n",
      "role(antagonist,character(murderer))\n",
      "role(protagonist,character(detective))\n",
      "role(support,character(assistant))\n",
      "occurs(character(detective),verb(fight,trans(character(murderer))),act(falling))\n",
      "occurs(character(murderer),verb(fight,trans(character(detective))),act(falling))\n"
     ]
    },
    {
     "data": {
      "application/vnd.jupyter.widget-view+json": {
       "model_id": "2b6adf128a214e61a800d34a00737bdf",
       "version_major": 2,
       "version_minor": 0
      },
      "text/plain": [
       "VBox(children=(Button(description='decision(verb(save,trans(character(assistant))))', layout=Layout(width='100…"
      ]
     },
     "metadata": {},
     "output_type": "display_data"
    },
    {
     "name": "stdout",
     "output_type": "stream",
     "text": [
      "setting(hideout)\n",
      "has(character(detective),object(clues))\n",
      "is(character(assistant),adj(follower))\n",
      "is(character(assistant),place(hideout))\n",
      "is(character(detective),adj(hurt))\n",
      "is(character(detective),place(hideout))\n",
      "is(character(murderer),adj(hurt))\n",
      "is(character(murderer),adj(violent))\n",
      "is(character(murderer),place(hideout))\n",
      "is(object(body),place(work))\n",
      "is(object(clues),place(city))\n",
      "role(antagonist,character(murderer))\n",
      "role(protagonist,character(detective))\n",
      "role(support,character(assistant))\n",
      "occurs(character(detective),verb(defeat,trans(character(murderer))),act(falling))\n",
      "occurs(character(detective),verb(fight,trans(character(murderer))),act(falling))\n"
     ]
    },
    {
     "data": {
      "application/vnd.jupyter.widget-view+json": {
       "model_id": "8e685ed6a3874b39ab07e098d57f4609",
       "version_major": 2,
       "version_minor": 0
      },
      "text/plain": [
       "VBox(children=(Button(description='decision(verb(save,trans(character(assistant))))', layout=Layout(width='100…"
      ]
     },
     "metadata": {},
     "output_type": "display_data"
    },
    {
     "name": "stdout",
     "output_type": "stream",
     "text": [
      "setting(hideout)\n",
      "has(character(detective),object(clues))\n",
      "is(character(assistant),adj(follower))\n",
      "is(character(assistant),adj(safe))\n",
      "is(character(assistant),place(hideout))\n",
      "is(character(detective),adj(hurt))\n",
      "is(character(detective),place(hideout))\n",
      "is(character(murderer),adj(hurt))\n",
      "is(character(murderer),adj(violent))\n",
      "is(character(murderer),place(hideout))\n",
      "is(object(body),place(work))\n",
      "is(object(clues),place(city))\n",
      "role(antagonist,character(murderer))\n",
      "role(protagonist,character(detective))\n",
      "role(support,character(assistant))\n",
      "occurs(character(detective),verb(save,trans(character(assistant))),act(falling))\n",
      "setting(hideout)\n",
      "story(end)\n",
      "has(character(detective),object(clues))\n",
      "is(character(assistant),adj(follower))\n",
      "is(character(assistant),adj(safe))\n",
      "is(character(assistant),place(hideout))\n",
      "is(character(detective),place(hideout))\n",
      "is(character(murderer),adj(violent))\n",
      "is(character(murderer),place(hideout))\n",
      "is(object(body),place(work))\n",
      "is(object(clues),place(city))\n",
      "role(antagonist,character(murderer))\n",
      "role(protagonist,character(detective))\n",
      "role(support,character(assistant))\n"
     ]
    }
   ],
   "source": [
    "# HIDDEN\n",
    "\n",
    "test.play()"
   ]
  },
  {
   "cell_type": "code",
   "execution_count": 230,
   "metadata": {
    "collapsed": true
   },
   "outputs": [],
   "source": [
    "# HIDDEN\n",
    "\n",
    "def process_output(path):\n",
    "    '''takes path to ASP encoding output,\n",
    "    returns a list of individual paths,\n",
    "    each of which is a list of states,\n",
    "    each of which is a tuple of choice + outcomes,\n",
    "    and separately returns the initial setting'''\n",
    "    \n",
    "    f = open(path)\n",
    "    raw = f.read().replace('\\n','')\n",
    "    raw = raw.split('State 0')[1:]\n",
    "    \n",
    "    token = re.compile(\"\\w+\\(.*\\)\")\n",
    "    \n",
    "    for story in range(len(raw)):\n",
    "        raw[story] = raw[story].split('State')\n",
    "        \n",
    "        for state in range(len(raw[story])):\n",
    "            raw[story][state] = raw[story][state].split(' ')\n",
    "            raw[story][state] = list(filter(None, raw[story][state]))[1:]\n",
    "            \n",
    "            if story == 0 & state == 0:\n",
    "                initial = raw[0][0]\n",
    "                \n",
    "            if state != 0:\n",
    "                choice = None\n",
    "                outcomes = []\n",
    "                \n",
    "                for item in range(len(raw[story][state])):\n",
    "                    if token.match(raw[story][state][item]):\n",
    "                        raw[story][state][item] = token.match(raw[story][state][item]).group()\n",
    "                    if raw[story][state][item][0] == 'd':\n",
    "                        if choice != None:\n",
    "                            print('Error! More than one decision in a path state!')\n",
    "                        choice = raw[story][state][item]\n",
    "                    elif token.match(raw[story][state][item]):\n",
    "                        outcomes.append(raw[story][state][item])\n",
    "                        \n",
    "                raw[story][state] = (choice, outcomes)\n",
    "                \n",
    "        del raw[story][0]\n",
    "        \n",
    "    return raw, initial"
   ]
  },
  {
   "cell_type": "code",
   "execution_count": 235,
   "metadata": {
    "collapsed": true
   },
   "outputs": [],
   "source": [
    "# HIDDEN\n",
    "\n",
    "def play(path):\n",
    "    \n",
    "    stories, initial = process_output(path)\n",
    "    \n",
    "    for item in initial:\n",
    "        print(item)\n",
    "    print('')\n",
    "    \n",
    "    choose(stories)\n",
    "    \n",
    "def progress(stories, decision = None):\n",
    "    \n",
    "    \n",
    "    end = False\n",
    "    \n",
    "    # no decision means all paths have same next state (usually story change)\n",
    "    if decision == None:\n",
    "        for item in stories[0][0][1]:\n",
    "            if item == 'story(end)':\n",
    "                end = True\n",
    "            print(item)\n",
    "        print('')\n",
    "    else: # use decision to print choices\n",
    "        new_stories = []\n",
    "        for idx in range(len(stories)):\n",
    "            if stories[idx][0][0] == decision:\n",
    "                new_stories.append(stories[idx])\n",
    "        stories = new_stories\n",
    "        # next: print outcomes\n",
    "        for item in stories[0][0][1]:\n",
    "            if item == 'story(end)':\n",
    "                end = True\n",
    "            print(item)\n",
    "    \n",
    "    # remove first state for all, continue to choose\n",
    "    for story in stories:\n",
    "        del story[0]\n",
    "        \n",
    "    if end == True:\n",
    "        return\n",
    "    \n",
    "    choose(stories)\n",
    "            \n",
    "def choose(stories):\n",
    "    # make next decision\n",
    "    \n",
    "    # gather choices\n",
    "    choices = []\n",
    "    for idx in range(len(stories)):\n",
    "        choices.append(stories[idx][0][0])\n",
    "    choices = list(set(choices))\n",
    "    \n",
    "    def decide(choice):\n",
    "        nonlocal decision\n",
    "        decision = choice\n",
    "        \n",
    "    def ready(dummy):\n",
    "        progress(stories, decision)\n",
    "    \n",
    "    # if no choice, automatically progress\n",
    "    if choices == [None]:\n",
    "        progress(stories)\n",
    "    else:        \n",
    "        decision = choices[0]\n",
    "        ipywidgets.interact(decide, choice = choices)\n",
    "        button = Button(description='next')\n",
    "        display(button)\n",
    "        button.on_click(ready)\n",
    "            \n",
    "\n",
    "    # first: remove all stories where the choice in question is not used:\n"
   ]
  },
  {
   "cell_type": "code",
   "execution_count": 236,
   "metadata": {},
   "outputs": [
    {
     "data": {
      "application/vnd.jupyter.widget-view+json": {
       "model_id": "02581a089658448d838a509cfdb2caae",
       "version_major": 2,
       "version_minor": 0
      },
      "text/plain": [
       "A Jupyter Widget"
      ]
     },
     "metadata": {},
     "output_type": "display_data"
    }
   ],
   "source": [
    "def go(dummy):\n",
    "    play('results.txt')\n",
    "\n",
    "button = Button(description='heist story')\n",
    "display(button)\n",
    "button.on_click(go)"
   ]
  },
  {
   "cell_type": "code",
   "execution_count": 213,
   "metadata": {
    "collapsed": true
   },
   "outputs": [],
   "source": [
    "# HIDDEN\n",
    "\n",
    "#import nbinteract as nbi\n",
    "#nbi.publish('cramerus/nbinteract-image/master', 'if_generator.ipynb')\n",
    "\n",
    "# CLI: nbinteract -s cramerus/ASP-Interactive-Fiction-Generator/master if_generator.ipynb"
   ]
  },
  {
   "cell_type": "code",
   "execution_count": null,
   "metadata": {
    "collapsed": true
   },
   "outputs": [],
   "source": []
  }
 ],
 "metadata": {
  "kernelspec": {
   "display_name": "Python 3",
   "language": "python",
   "name": "python3"
  },
  "language_info": {
   "codemirror_mode": {
    "name": "ipython",
    "version": 3
   },
   "file_extension": ".py",
   "mimetype": "text/x-python",
   "name": "python",
   "nbconvert_exporter": "python",
   "pygments_lexer": "ipython3",
   "version": "3.6.6"
  }
 },
 "nbformat": 4,
 "nbformat_minor": 2
}
