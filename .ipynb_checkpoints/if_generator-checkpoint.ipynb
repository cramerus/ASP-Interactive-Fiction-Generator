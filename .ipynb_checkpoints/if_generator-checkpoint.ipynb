{
 "cells": [
  {
   "cell_type": "markdown",
   "metadata": {},
   "source": [
    "# ASP Interactive Fiction Generator"
   ]
  },
  {
   "cell_type": "code",
   "execution_count": 173,
   "metadata": {
    "collapsed": true
   },
   "outputs": [],
   "source": [
    "# HIDDEN\n",
    "\n",
    "import re\n",
    "from collections import defaultdict\n",
    "from ipywidgets import Button, HBox, VBox, Layout, widgets\n",
    "import ipywidgets\n",
    "from IPython.display import display"
   ]
  },
  {
   "cell_type": "code",
   "execution_count": 68,
   "metadata": {
    "collapsed": true
   },
   "outputs": [],
   "source": [
    "# HIDDEN\n",
    "\n",
    "class IF:\n",
    "    \"\"\"text\"\"\"\n",
    "    \n",
    "    def __init__(self, path, current = None, future = None):\n",
    "        \"\"\"text\"\"\"\n",
    "        self.end = False\n",
    "        if path: # first time\n",
    "            self.choice = None\n",
    "            self._create_tree(path)\n",
    "        else: # recursive\n",
    "            self._create_branch(current, future)\n",
    "                            \n",
    "    def _create_tree(self, path):\n",
    "        \"\"\"\"\"\"\n",
    "        f = open(path)\n",
    "        raw = f.read().split('State 0')[1:]\n",
    "        \n",
    "        next_states = defaultdict(lambda: [])\n",
    "        \n",
    "        for item in raw:\n",
    "            path = item.split('State')\n",
    "            path = self._clean_path(path)\n",
    "            \n",
    "            self.reactions = tuple(path[0])\n",
    "            path = path[1:]\n",
    "            \n",
    "            next_states[tuple(path[0])].append(path[1:])\n",
    "        \n",
    "        self.children = [IF(None, state, next_states[state]) for state in next_states]\n",
    "    \n",
    "    def _clean_path(self, raw_path):\n",
    "        \"\"\"\"\"\"\n",
    "        path = []\n",
    "        for item in raw_path:\n",
    "            item = item.replace('\\n','')\n",
    "            item = item.replace(':', '')\n",
    "            item = ''.join([i for i in item if not i.isdigit()])\n",
    "            item = item.strip(' ')\n",
    "            item = item.split(' ')\n",
    "            token = re.compile(\"\\w+\\(.*\\)\")\n",
    "            for idx in range(len(item)):\n",
    "                if token.match(item[idx]):\n",
    "                    item[idx] = token.match(item[idx]).group()\n",
    "                else:\n",
    "                    item[idx] = None\n",
    "            item = list(filter(None, item))\n",
    "            path.append(item)\n",
    "        return path\n",
    "    \n",
    "    def _create_branch(self, current, future):\n",
    "        \"\"\"\"\"\"        \n",
    "        choice = re.compile('decision\\(.*\\)')\n",
    "        self.choice = None\n",
    "        self.reactions = []\n",
    "        for item in current:\n",
    "            if choice.match(item):\n",
    "                self.choice = choice.match(item).group()\n",
    "            else:\n",
    "                self.reactions.append(item)\n",
    "        \n",
    "        next_states = defaultdict(lambda: [])   \n",
    "            \n",
    "        if future:\n",
    "            for item in future:\n",
    "                if len(item) > 1:\n",
    "                    next_states[tuple(item[0])].append(item[1:])\n",
    "                else:\n",
    "                    next_states[tuple(item[0])] = None\n",
    "            self.children = [IF(None, state, next_states[state]) for state in next_states]\n",
    "        else:\n",
    "            self.end = True\n",
    "            self.children = None\n",
    "            \n",
    "    def play(self):\n",
    "        for item in self.reactions:\n",
    "            print(str(item))\n",
    "        choices = True\n",
    "        if not self.children:\n",
    "            choices = False\n",
    "        else:\n",
    "            for child in self.children:\n",
    "                if not child.choice:\n",
    "                    choices = False\n",
    "        if choices == True:\n",
    "            buttons = [Button(description=str(child.choice), \n",
    "                              layout=Layout(width='100%'))\n",
    "                        for child in self.children]\n",
    "            display(widgets.VBox(buttons))\n",
    "            for idx in range(len(self.children)):\n",
    "                buttons[idx].on_click(self.children[idx]._choose)\n",
    "        else:\n",
    "            #for item in self.reactions:\n",
    "            #    print(str(item))\n",
    "            if self.children:\n",
    "                assert(len(self.children) == 1)\n",
    "                self.children[0].play()\n",
    "        \n",
    "    def _choose(self, b):\n",
    "        #for item in self.reactions:\n",
    "        #    print(str(item))\n",
    "        self.play()       \n",
    "        "
   ]
  },
  {
   "cell_type": "markdown",
   "metadata": {},
   "source": [
    "# Testing"
   ]
  },
  {
   "cell_type": "code",
   "execution_count": 115,
   "metadata": {
    "collapsed": true
   },
   "outputs": [],
   "source": [
    "# HIDDEN\n",
    "\n",
    "#test = IF('results.txt')"
   ]
  },
  {
   "cell_type": "code",
   "execution_count": 116,
   "metadata": {
    "scrolled": true
   },
   "outputs": [],
   "source": [
    "# HIDDEN\n",
    "\n",
    "#test.play()"
   ]
  },
  {
   "cell_type": "code",
   "execution_count": 230,
   "metadata": {
    "collapsed": true
   },
   "outputs": [],
   "source": [
    "# HIDDEN\n",
    "\n",
    "def process_output(path):\n",
    "    '''takes path to ASP encoding output,\n",
    "    returns a list of individual paths,\n",
    "    each of which is a list of states,\n",
    "    each of which is a tuple of choice + outcomes,\n",
    "    and separately returns the initial setting'''\n",
    "    \n",
    "    f = open(path)\n",
    "    raw = f.read().replace('\\n','')\n",
    "    raw = raw.split('State 0')[1:]\n",
    "    \n",
    "    token = re.compile(\"\\w+\\(.*\\)\")\n",
    "    \n",
    "    for story in range(len(raw)):\n",
    "        raw[story] = raw[story].split('State')\n",
    "        \n",
    "        for state in range(len(raw[story])):\n",
    "            raw[story][state] = raw[story][state].split(' ')\n",
    "            raw[story][state] = list(filter(None, raw[story][state]))[1:]\n",
    "            \n",
    "            if story == 0 & state == 0:\n",
    "                initial = raw[0][0]\n",
    "                \n",
    "            if state != 0:\n",
    "                choice = None\n",
    "                outcomes = []\n",
    "                \n",
    "                for item in range(len(raw[story][state])):\n",
    "                    if token.match(raw[story][state][item]):\n",
    "                        raw[story][state][item] = token.match(raw[story][state][item]).group()\n",
    "                    if raw[story][state][item][0] == 'd':\n",
    "                        if choice != None:\n",
    "                            print('Error! More than one decision in a path state!')\n",
    "                        choice = raw[story][state][item]\n",
    "                    elif token.match(raw[story][state][item]):\n",
    "                        outcomes.append(raw[story][state][item])\n",
    "                        \n",
    "                raw[story][state] = (choice, outcomes)\n",
    "                \n",
    "        del raw[story][0]\n",
    "        \n",
    "    return raw, initial"
   ]
  },
  {
   "cell_type": "code",
   "execution_count": 235,
   "metadata": {},
   "outputs": [],
   "source": [
    "# HIDDEN\n",
    "\n",
    "def play(path):\n",
    "    \n",
    "    stories, initial = process_output(path)\n",
    "    \n",
    "    for item in initial:\n",
    "        print(item)\n",
    "    print('')\n",
    "    \n",
    "    choose(stories)\n",
    "    \n",
    "def progress(stories, decision = None):\n",
    "    \n",
    "    \n",
    "    end = False\n",
    "    \n",
    "    # no decision means all paths have same next state (usually story change)\n",
    "    if decision == None:\n",
    "        for item in stories[0][0][1]:\n",
    "            if item == 'story(end)':\n",
    "                end = True\n",
    "            print(item)\n",
    "        print('')\n",
    "    else: # use decision to print choices\n",
    "        new_stories = []\n",
    "        for idx in range(len(stories)):\n",
    "            if stories[idx][0][0] == decision:\n",
    "                new_stories.append(stories[idx])\n",
    "        stories = new_stories\n",
    "        # next: print outcomes\n",
    "        for item in stories[0][0][1]:\n",
    "            if item == 'story(end)':\n",
    "                end = True\n",
    "            print(item)\n",
    "    \n",
    "    # remove first state for all, continue to choose\n",
    "    for story in stories:\n",
    "        del story[0]\n",
    "        \n",
    "    if end == True:\n",
    "        return\n",
    "    \n",
    "    choose(stories)\n",
    "            \n",
    "def choose(stories):\n",
    "    # make next decision\n",
    "    \n",
    "    # gather choices\n",
    "    choices = []\n",
    "    for idx in range(len(stories)):\n",
    "        choices.append(stories[idx][0][0])\n",
    "    choices = list(set(choices))\n",
    "    \n",
    "    def decide(choice):\n",
    "        nonlocal decision\n",
    "        decision = choice\n",
    "        \n",
    "    def ready(dummy):\n",
    "        progress(stories, decision)\n",
    "    \n",
    "    # if no choice, automatically progress\n",
    "    if choices == [None]:\n",
    "        progress(stories)\n",
    "    else:        \n",
    "        decision = choices[0]\n",
    "        ipywidgets.interact(decide, choice = choices)\n",
    "        button = Button(description='next')\n",
    "        display(button)\n",
    "        button.on_click(ready)\n",
    "            \n",
    "\n",
    "    # first: remove all stories where the choice in question is not used:\n"
   ]
  },
  {
   "cell_type": "code",
   "execution_count": 236,
   "metadata": {},
   "outputs": [
    {
     "data": {
      "application/vnd.jupyter.widget-view+json": {
       "model_id": "02581a089658448d838a509cfdb2caae",
       "version_major": 2,
       "version_minor": 0
      },
      "text/plain": [
       "A Jupyter Widget"
      ]
     },
     "metadata": {},
     "output_type": "display_data"
    }
   ],
   "source": [
    "def go(dummy):\n",
    "    play('results.txt')\n",
    "\n",
    "button = Button(description='heist story')\n",
    "display(button)\n",
    "button.on_click(go)"
   ]
  },
  {
   "cell_type": "code",
   "execution_count": 213,
   "metadata": {},
   "outputs": [],
   "source": [
    "# HIDDEN\n",
    "\n",
    "#import nbinteract as nbi\n",
    "#nbi.publish('cramerus/nbinteract-image/master', 'if_generator.ipynb')\n",
    "\n",
    "# CLI: nbinteract -s cramerus/ASP-Interactive-Fiction-Generator/master if_generator.ipynb"
   ]
  },
  {
   "cell_type": "code",
   "execution_count": null,
   "metadata": {
    "collapsed": true
   },
   "outputs": [],
   "source": []
  }
 ],
 "metadata": {
  "kernelspec": {
   "display_name": "Python 3",
   "language": "python",
   "name": "python3"
  },
  "language_info": {
   "codemirror_mode": {
    "name": "ipython",
    "version": 3
   },
   "file_extension": ".py",
   "mimetype": "text/x-python",
   "name": "python",
   "nbconvert_exporter": "python",
   "pygments_lexer": "ipython3",
   "version": "3.6.3"
  }
 },
 "nbformat": 4,
 "nbformat_minor": 2
}
